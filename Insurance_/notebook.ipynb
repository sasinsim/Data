{
 "cells": [
  {
   "cell_type": "code",
   "execution_count": null,
   "id": "7c9ec9fd-03cd-4568-b57f-e94c5964f261",
   "metadata": {},
   "outputs": [],
   "source": [
    "import pandas as pd\n",
    "import numpy as np\n",
    "import seaborn as sns\n",
    "import plotly.express as px\n",
    "import matplotlib.pyplot as plt\n",
    "%matplotlib inline\n",
    "%config InlineBackend.figure_format = 'retina'"
   ]
  },
  {
   "cell_type": "code",
   "execution_count": null,
   "id": "e2919e78-5896-4a14-b694-8626e81c5eb6",
   "metadata": {},
   "outputs": [],
   "source": [
    "train_raw=pd.read_csv('train.csv')\n",
    "test_raw=pd.read_csv('test.csv')"
   ]
  },
  {
   "cell_type": "code",
   "execution_count": null,
   "id": "37087221-effa-49f7-a00d-0d5dfe825522",
   "metadata": {},
   "outputs": [],
   "source": [
    "train_raw.head()"
   ]
  },
  {
   "cell_type": "code",
   "execution_count": null,
   "id": "6ee6a119-e687-4eb7-88e2-e8e5d200ae3c",
   "metadata": {},
   "outputs": [],
   "source": [
    "test_raw.head()"
   ]
  },
  {
   "cell_type": "code",
   "execution_count": null,
   "id": "e7a41b06-abe8-4088-845e-ea38d624ce87",
   "metadata": {},
   "outputs": [],
   "source": [
    "test_raw1 = test_raw"
   ]
  },
  {
   "cell_type": "code",
   "execution_count": null,
   "id": "0a5a3010-a831-4655-ba92-1a29d22f698d",
   "metadata": {},
   "outputs": [],
   "source": [
    "###test_raw1=pd.merge(test_raw, sample_sub[[\"id\", \"Response\"]], on=\"id\", how=\"left\")"
   ]
  },
  {
   "cell_type": "code",
   "execution_count": null,
   "id": "dd01d952-c6a2-46af-91e1-03677275b41a",
   "metadata": {},
   "outputs": [],
   "source": [
    "test_raw1.head()"
   ]
  },
  {
   "cell_type": "code",
   "execution_count": null,
   "id": "68cc4e21-88c9-4641-94bb-3116e14ded41",
   "metadata": {},
   "outputs": [],
   "source": [
    "train_raw.info()"
   ]
  },
  {
   "cell_type": "code",
   "execution_count": null,
   "id": "4ba7adb6-a23b-47a4-af0a-24aa2a896560",
   "metadata": {},
   "outputs": [],
   "source": [
    "test_raw1.info()"
   ]
  },
  {
   "cell_type": "code",
   "execution_count": null,
   "id": "d7a2ed29-a9fd-4bcf-9207-b1c51de0a433",
   "metadata": {},
   "outputs": [],
   "source": [
    "train_raw.isna().sum()"
   ]
  },
  {
   "cell_type": "code",
   "execution_count": null,
   "id": "cde89bd7-f863-4dec-9287-13a3278ddb86",
   "metadata": {},
   "outputs": [],
   "source": [
    "test_raw1.isna().sum()"
   ]
  },
  {
   "cell_type": "code",
   "execution_count": null,
   "id": "36f84236-8670-4564-a516-91e849896472",
   "metadata": {},
   "outputs": [],
   "source": [
    "train_raw.isnull().sum()"
   ]
  },
  {
   "cell_type": "code",
   "execution_count": null,
   "id": "46d03d79-cb60-4fdf-ae32-dac0122911d9",
   "metadata": {},
   "outputs": [],
   "source": [
    "test_raw1.isnull().sum()"
   ]
  },
  {
   "cell_type": "markdown",
   "id": "fc554ad3-0ce2-4228-a530-111fb64a7901",
   "metadata": {},
   "source": [
    "Dataset already clean\n"
   ]
  },
  {
   "cell_type": "code",
   "execution_count": null,
   "id": "941ec752-9ab5-4ceb-affe-64f190d38d8c",
   "metadata": {},
   "outputs": [],
   "source": [
    "test_raw1.nunique()"
   ]
  },
  {
   "cell_type": "code",
   "execution_count": null,
   "id": "895c9bcc-00c4-4576-8229-02d01558dceb",
   "metadata": {},
   "outputs": [],
   "source": [
    "train_raw.describe(include=['object'])"
   ]
  },
  {
   "cell_type": "code",
   "execution_count": null,
   "id": "7293b277-0106-48ef-bb11-bba99bd3f004",
   "metadata": {},
   "outputs": [],
   "source": [
    "train_raw.describe()"
   ]
  },
  {
   "cell_type": "code",
   "execution_count": null,
   "id": "3ee0c9e1-0922-4823-ab04-67f7dca7db96",
   "metadata": {},
   "outputs": [],
   "source": []
  },
  {
   "cell_type": "markdown",
   "id": "2c237d95-0b84-48f8-93e1-92a7d060c891",
   "metadata": {},
   "source": [
    "# Visualization"
   ]
  },
  {
   "cell_type": "code",
   "execution_count": null,
   "id": "97198ade-26f8-4fea-8776-19ab3e83b12e",
   "metadata": {},
   "outputs": [],
   "source": [
    "plt.figure(figsize = (16,5))\n",
    "sns.heatmap( train_raw.corr(),cmap='coolwarm',annot=True)"
   ]
  },
  {
   "cell_type": "code",
   "execution_count": null,
   "id": "727198d0-21c6-45e5-817d-86580318797e",
   "metadata": {},
   "outputs": [],
   "source": [
    "corr_data=train_raw.drop(['id'], inplace=False, axis=1)"
   ]
  },
  {
   "cell_type": "code",
   "execution_count": null,
   "id": "07cc3981-dba1-4493-ad2c-962072df3c22",
   "metadata": {},
   "outputs": [],
   "source": [
    "plt.figure(figsize=(19, 17))\n",
    "matrix = np.triu(corr_data.corr())\n",
    "sns.heatmap(corr_data.corr(), annot=True, linewidth=.8, mask=matrix, cmap=\"rocket\");"
   ]
  },
  {
   "cell_type": "code",
   "execution_count": null,
   "id": "0bbea465-cedb-4bd8-89d0-345f05ccd607",
   "metadata": {},
   "outputs": [],
   "source": [
    "fig = px.histogram(train_raw, x=\"Response\", color=\"Gender\", marginal=\"box\", # can be `box`, `violin`,'rug'\n",
    "                         hover_data=train_raw.columns,title='Gender & Response Correlation')\n",
    "fig.update_layout(bargap=0.1)\n",
    "fig.show()"
   ]
  },
  {
   "cell_type": "markdown",
   "id": "a9709a72-462b-4238-a471-b4bc88b5833e",
   "metadata": {},
   "source": [
    "Gender didnt perform that much role with the Response"
   ]
  },
  {
   "cell_type": "code",
   "execution_count": null,
   "id": "84c289e0-4556-41ab-b92e-fb94228f0ea8",
   "metadata": {},
   "outputs": [],
   "source": [
    "print(train_raw['Gender'].value_counts())"
   ]
  },
  {
   "cell_type": "code",
   "execution_count": null,
   "id": "16b34e76-af4c-440a-957c-3a86df72d3ae",
   "metadata": {},
   "outputs": [],
   "source": [
    "fig = px.histogram(train_raw, x=\"Age\", color=\"Response\", marginal=\"box\", # can be `box`, `violin`,'rug'\n",
    "                         hover_data=train_raw.columns,title='Age & Response Correlation')\n",
    "fig.update_layout(bargap=0.1)\n",
    "fig.show()"
   ]
  },
  {
   "cell_type": "code",
   "execution_count": null,
   "id": "a7b0d64b-460f-4c37-8f26-f8d2ce064c61",
   "metadata": {},
   "outputs": [],
   "source": [
    "sns.catplot(x=\"Response\",y=\"Age\", data=train_raw, kind='box')\n",
    "plt.title(\"Age and Response Correlation\", size=20, y=1.0);"
   ]
  },
  {
   "cell_type": "markdown",
   "id": "e3b775df-ecff-4bfb-b88b-6cbf00fadef7",
   "metadata": {},
   "source": [
    "Age>35 got a little more interesting than Age < 35"
   ]
  },
  {
   "cell_type": "code",
   "execution_count": null,
   "id": "4ae67785-b762-4900-97cb-f6107769e649",
   "metadata": {},
   "outputs": [],
   "source": [
    "fig=px.histogram(train_raw,\n",
    "                x='Response',\n",
    "                marginal='box',\n",
    "                color='Driving_License',\n",
    "                color_discrete_sequence=['green', 'blue'],\n",
    "                title='Driving License & Response Correlation'\n",
    "                )\n",
    "fig.update_layout(bargap=0.05)\n",
    "fig.show()"
   ]
  },
  {
   "cell_type": "markdown",
   "id": "cb6eae49-dcb1-4134-817f-5f580936d255",
   "metadata": {},
   "source": [
    "Driving license also didnt show that much"
   ]
  },
  {
   "cell_type": "code",
   "execution_count": null,
   "id": "6d526d51-ac34-40d8-8313-ce4632850ebd",
   "metadata": {},
   "outputs": [],
   "source": [
    "sns.catplot(x=\"Response\", y=\"Region_Code\", data=train_raw, kind=\"box\")\n",
    "plt.title(\"Region code & Response Correlation\", size=20, y=1.0);"
   ]
  },
  {
   "cell_type": "markdown",
   "id": "a2e6cf03-57bb-4b62-8af5-5e85a56daa22",
   "metadata": {},
   "source": [
    "Less correlation between region & response."
   ]
  },
  {
   "cell_type": "code",
   "execution_count": null,
   "id": "964d7ef9-8056-41a5-883a-a2b6542cead7",
   "metadata": {},
   "outputs": [],
   "source": [
    "fig=px.histogram(train_raw,\n",
    "                x='Response',\n",
    "                marginal='box',\n",
    "                color='Previously_Insured',\n",
    "                color_discrete_sequence=['green', 'blue'],\n",
    "                title='Previously_Insured & Response Correlation'\n",
    "                )\n",
    "fig.update_layout(bargap=0.1)\n",
    "fig.show()"
   ]
  },
  {
   "cell_type": "code",
   "execution_count": null,
   "id": "4cb3e731-0ed6-4f0a-afda-4e6fe2e52452",
   "metadata": {},
   "outputs": [],
   "source": [
    "fig=px.histogram(train_raw,\n",
    "                x='Response',\n",
    "                marginal='box',\n",
    "                color='Vehicle_Damage',\n",
    "                color_discrete_sequence=['green', 'blue'],\n",
    "                title='Vehicle_Damage and Response Correlation'\n",
    "                )\n",
    "fig.update_layout(bargap=0.1)\n",
    "fig.show()"
   ]
  },
  {
   "cell_type": "markdown",
   "id": "4acc3969-5093-4b92-8d25-35449e498a12",
   "metadata": {},
   "source": [
    "people that got vehicle damage got more response "
   ]
  },
  {
   "cell_type": "code",
   "execution_count": null,
   "id": "a67b00a8-feec-4a21-9d26-a049e878c6c5",
   "metadata": {},
   "outputs": [],
   "source": [
    "sns.countplot(data=train_raw,x='Vehicle_Age',hue='Vehicle_Damage');"
   ]
  },
  {
   "cell_type": "markdown",
   "id": "f1af5499-a0d7-4e99-9917-4d27e1baedc9",
   "metadata": {},
   "source": [
    "Vehicle that age around 1-2 years  got the highest vehicle damage"
   ]
  },
  {
   "cell_type": "code",
   "execution_count": null,
   "id": "211b92c9-4eac-45aa-bf1c-0ca936869848",
   "metadata": {},
   "outputs": [],
   "source": []
  },
  {
   "cell_type": "markdown",
   "id": "9af67832-bc6a-40a7-b752-9441553039fc",
   "metadata": {
    "slideshow": {
     "slide_type": "notes"
    },
    "tags": []
   },
   "source": [
    "# Data Preprocessing"
   ]
  },
  {
   "cell_type": "code",
   "execution_count": null,
   "id": "72dcb4e0-a4fe-4f4b-9d7f-e285ba282d67",
   "metadata": {},
   "outputs": [],
   "source": [
    "#drop unuse column\n",
    "train_raw.drop(\"id\", inplace=True, axis=1)\n",
    "test_raw1.drop(\"id\",inplace=True, axis=1)"
   ]
  },
  {
   "cell_type": "markdown",
   "id": "eb5aad74",
   "metadata": {},
   "source": [
    "Replace data into numeric"
   ]
  },
  {
   "cell_type": "code",
   "execution_count": null,
   "id": "e4001c7a-1856-45f0-8dd9-5084a518b42e",
   "metadata": {},
   "outputs": [],
   "source": [
    "train_raw['Gender']=train_raw['Gender'].replace({'Male':1,'Female':0})\n",
    "train_raw.head()"
   ]
  },
  {
   "cell_type": "code",
   "execution_count": null,
   "id": "04fae1d1-2738-482f-80b7-3bdff3793983",
   "metadata": {},
   "outputs": [],
   "source": [
    "train_raw['Vehicle_Damage'].replace({'Yes':1,'No':0}, inplace=True)\n",
    "train_raw['Vehicle_Age'].replace({'< 1 Year':1,'1-2 Year':2,'> 2 Years':3}, inplace=True)\n",
    "train_raw.head()"
   ]
  },
  {
   "cell_type": "code",
   "execution_count": null,
   "id": "1b4de3ac-8609-4e34-a33a-556c24db2ed9",
   "metadata": {},
   "outputs": [],
   "source": [
    "train_df=train_raw"
   ]
  },
  {
   "cell_type": "code",
   "execution_count": null,
   "id": "db8cf459-8309-4d0a-a29e-f91e083f4963",
   "metadata": {},
   "outputs": [],
   "source": [
    "plt.figure(figsize=(16,9))\n",
    "sns.heatmap(train_df.corr(), annot=True)"
   ]
  },
  {
   "cell_type": "code",
   "execution_count": null,
   "id": "a1281e5f-16d5-4cc3-a38d-21d54639de72",
   "metadata": {},
   "outputs": [],
   "source": [
    "hig_corr = train_df.corr()\n",
    "hig_corr_features = hig_corr.index[abs(hig_corr[\"Response\"]) >= 0.2]\n",
    "hig_corr_features"
   ]
  },
  {
   "cell_type": "code",
   "execution_count": null,
   "id": "65708d99-dfaf-405e-9e76-7224097eacd5",
   "metadata": {},
   "outputs": [],
   "source": [
    "test_raw1['Gender']=test_raw1['Gender'].replace({'Male':1,'Female':0})"
   ]
  },
  {
   "cell_type": "code",
   "execution_count": null,
   "id": "fc22e4c0",
   "metadata": {},
   "outputs": [],
   "source": [
    "test_raw1['Vehicle_Damage'].replace({'Yes':1,'No':0}, inplace=True)\n",
    "test_raw1['Vehicle_Age'].replace({'< 1 Year':1,'1-2 Year':2,'> 2 Years':3}, inplace=True)"
   ]
  },
  {
   "cell_type": "code",
   "execution_count": null,
   "id": "a8396ffc",
   "metadata": {
    "scrolled": true
   },
   "outputs": [],
   "source": [
    "test_df=test_raw1\n",
    "test_df.head()"
   ]
  },
  {
   "cell_type": "code",
   "execution_count": null,
   "id": "0a7dede4",
   "metadata": {},
   "outputs": [],
   "source": []
  },
  {
   "cell_type": "markdown",
   "id": "44f95802",
   "metadata": {},
   "source": [
    "#Scaling Numeric Data\n",
    "X_std = (X - X.min(axis=0)) / (X.max(axis=0) - X.min(axis=0))\n",
    "X_scaled = X_std * (max - min) + min"
   ]
  },
  {
   "cell_type": "code",
   "execution_count": null,
   "id": "6c234e4b",
   "metadata": {},
   "outputs": [],
   "source": [
    "from sklearn.preprocessing import MinMaxScaler"
   ]
  },
  {
   "cell_type": "code",
   "execution_count": null,
   "id": "ac4b00c1",
   "metadata": {},
   "outputs": [],
   "source": [
    "numeric_cols=['Age','Region_Code','Annual_Premium','Policy_Sales_Channel','Vintage']"
   ]
  },
  {
   "cell_type": "code",
   "execution_count": null,
   "id": "fb56fc74",
   "metadata": {},
   "outputs": [],
   "source": [
    "scaler=MinMaxScaler()"
   ]
  },
  {
   "cell_type": "code",
   "execution_count": null,
   "id": "73e59563",
   "metadata": {},
   "outputs": [],
   "source": [
    "scaler.fit(train_df[numeric_cols])"
   ]
  },
  {
   "cell_type": "code",
   "execution_count": null,
   "id": "f33a9382",
   "metadata": {},
   "outputs": [],
   "source": [
    "train_df[numeric_cols]=scaler.transform(train_df[numeric_cols])\n",
    "test_df[numeric_cols]=scaler.transform(test_df[numeric_cols])"
   ]
  },
  {
   "cell_type": "code",
   "execution_count": null,
   "id": "99ddc848",
   "metadata": {},
   "outputs": [],
   "source": [
    "train_df.describe().loc[['min', 'max']]"
   ]
  },
  {
   "cell_type": "code",
   "execution_count": null,
   "id": "a210bf0e",
   "metadata": {},
   "outputs": [],
   "source": [
    "test_df.describe().loc[['min', 'max']]"
   ]
  },
  {
   "cell_type": "code",
   "execution_count": null,
   "id": "7f023f70",
   "metadata": {},
   "outputs": [],
   "source": [
    "train_df.head()"
   ]
  },
  {
   "cell_type": "code",
   "execution_count": null,
   "id": "1b0ab480",
   "metadata": {},
   "outputs": [],
   "source": [
    "test_df.head()"
   ]
  },
  {
   "cell_type": "markdown",
   "id": "85110796",
   "metadata": {},
   "source": [
    "# Training, Validation and Test Data"
   ]
  },
  {
   "cell_type": "code",
   "execution_count": null,
   "id": "269327c2",
   "metadata": {},
   "outputs": [],
   "source": [
    "input_cols=list(train_df.columns)[0:-1]\n",
    "target_col='Response'"
   ]
  },
  {
   "cell_type": "code",
   "execution_count": null,
   "id": "22ef5af4-9238-4030-bde4-8b687d177671",
   "metadata": {},
   "outputs": [],
   "source": [
    "input_cols"
   ]
  },
  {
   "cell_type": "code",
   "execution_count": null,
   "id": "e5ee715e-f8a9-49ea-8d85-ff692acfd65e",
   "metadata": {},
   "outputs": [],
   "source": [
    "inputs=train_df[input_cols]\n",
    "targets=train_df[target_col]"
   ]
  },
  {
   "cell_type": "markdown",
   "id": "1cfc3cc2-47d0-42b6-8f3b-97313c226c74",
   "metadata": {},
   "source": [
    "Split data"
   ]
  },
  {
   "cell_type": "code",
   "execution_count": null,
   "id": "34a37d51-2c23-489f-b679-133dbeb8d177",
   "metadata": {},
   "outputs": [],
   "source": [
    "from sklearn.model_selection import train_test_split"
   ]
  },
  {
   "cell_type": "code",
   "execution_count": null,
   "id": "6c3e28aa-c138-4b49-812d-4837dce38e32",
   "metadata": {},
   "outputs": [],
   "source": [
    "train_inputs, val_inputs, train_targets,val_targets=train_test_split(inputs, targets, test_size=0.2, random_state=42)"
   ]
  },
  {
   "cell_type": "code",
   "execution_count": null,
   "id": "738f30d1-3702-4d64-9f8e-177542f496e3",
   "metadata": {},
   "outputs": [],
   "source": [
    "val_inputs.head()"
   ]
  },
  {
   "cell_type": "code",
   "execution_count": null,
   "id": "4c6a2037-9f05-4e76-ac35-34a1482019fc",
   "metadata": {},
   "outputs": [],
   "source": [
    "len(val_inputs)"
   ]
  },
  {
   "cell_type": "code",
   "execution_count": null,
   "id": "521e436a-47e4-46ee-bd32-141ace3110a4",
   "metadata": {},
   "outputs": [],
   "source": [
    "len(val_targets)"
   ]
  },
  {
   "cell_type": "code",
   "execution_count": null,
   "id": "c6c77073-6fae-4fc2-8974-6b59b6d52036",
   "metadata": {},
   "outputs": [],
   "source": [
    "len(train_inputs)"
   ]
  },
  {
   "cell_type": "markdown",
   "id": "abd0f3c6-1560-4a6f-829b-7727bc2b5d4b",
   "metadata": {},
   "source": []
  },
  {
   "cell_type": "markdown",
   "id": "5553eb1d-ade2-49e2-814b-c8e6eff44a80",
   "metadata": {},
   "source": [
    "Logistic Regression Model"
   ]
  },
  {
   "cell_type": "code",
   "execution_count": null,
   "id": "784c4296-c2f4-4c8d-be1e-98e42190ade5",
   "metadata": {},
   "outputs": [],
   "source": [
    "from sklearn.linear_model import LogisticRegression\n",
    "from sklearn.metrics import accuracy_score\n",
    "import joblib"
   ]
  },
  {
   "cell_type": "code",
   "execution_count": null,
   "id": "f72a8e9c-e3b9-4627-9187-61f9ed498d29",
   "metadata": {},
   "outputs": [],
   "source": [
    "model=LogisticRegression(solver='liblinear')"
   ]
  },
  {
   "cell_type": "code",
   "execution_count": null,
   "id": "a73d9d90-9e5b-46d0-a2a9-684ac2793952",
   "metadata": {},
   "outputs": [],
   "source": [
    "model.fit(train_inputs, train_targets)"
   ]
  },
  {
   "cell_type": "code",
   "execution_count": null,
   "id": "fa684151-ed92-40ee-8b4b-617a19f6aa18",
   "metadata": {},
   "outputs": [],
   "source": [
    "%%time\n",
    "train_preds=model.predict(train_inputs)\n",
    "train_probs=model.predict_proba(train_inputs)\n",
    "accuracy_score(train_targets, train_preds)"
   ]
  },
  {
   "cell_type": "code",
   "execution_count": null,
   "id": "b8364312-9017-4b76-a7c9-950617c66449",
   "metadata": {},
   "outputs": [],
   "source": [
    "from sklearn.metrics import confusion_matrix\n",
    "def predict_and_plot(inputs, targets,name=''):\n",
    "    preds=model.predict(inputs)\n",
    "    accuracy = accuracy_score(targets, preds)\n",
    "    print(\"Accuracy: {:.2f}%\".format(accuracy * 100))\n",
    "    cf = confusion_matrix(targets, preds, normalize='true')\n",
    "    plt.figure()\n",
    "    sns.heatmap(cf, annot=True)\n",
    "    plt.xlabel('Prediction')\n",
    "    plt.ylabel('Target')\n",
    "    plt.title('{} Confusion Matrix'.format(name));    \n",
    "    return preds"
   ]
  },
  {
   "cell_type": "code",
   "execution_count": null,
   "id": "dc123307-5754-4715-88d9-efb919ab284f",
   "metadata": {},
   "outputs": [],
   "source": [
    "%%time\n",
    "train_preds=predict_and_plot(train_inputs, train_targets,'Train')"
   ]
  },
  {
   "cell_type": "code",
   "execution_count": null,
   "id": "ecef3bf5-fb1d-4561-969b-ec0f0f216cba",
   "metadata": {},
   "outputs": [],
   "source": [
    "%%time\n",
    "val_preds=predict_and_plot(val_inputs, val_targets,'Validation')"
   ]
  },
  {
   "cell_type": "markdown",
   "id": "eb635ba8-d79f-48a9-8759-2f03f68b06aa",
   "metadata": {},
   "source": [
    "Logistic Regression Model\n",
    "Training Accuracy - 87.79%\n",
    "Validation Accuracy - 87.50%"
   ]
  },
  {
   "cell_type": "code",
   "execution_count": null,
   "id": "ab39fbcf-07ac-462e-ab1e-ce089387aa72",
   "metadata": {},
   "outputs": [],
   "source": []
  },
  {
   "cell_type": "markdown",
   "id": "b9177840-9c1b-47e3-9f83-db1e07c1054a",
   "metadata": {},
   "source": [
    "Random Forest Classifier"
   ]
  },
  {
   "cell_type": "code",
   "execution_count": null,
   "id": "c4fce947-af96-46eb-9e06-1f94a4a019b6",
   "metadata": {},
   "outputs": [],
   "source": [
    "from sklearn.ensemble import RandomForestClassifier"
   ]
  },
  {
   "cell_type": "code",
   "execution_count": null,
   "id": "de97e20b-4c5b-4a95-8221-3949ac65cbf8",
   "metadata": {},
   "outputs": [],
   "source": [
    "model_2=RandomForestClassifier(n_jobs=-1, random_state=42)"
   ]
  },
  {
   "cell_type": "code",
   "execution_count": null,
   "id": "4d123591-5b07-430b-9ba3-e27ce3a75a49",
   "metadata": {},
   "outputs": [],
   "source": [
    "model_2.fit(train_inputs, train_targets)"
   ]
  },
  {
   "cell_type": "code",
   "execution_count": null,
   "id": "6e4edb1b-b972-4e0b-8ce5-e12ffad256ac",
   "metadata": {},
   "outputs": [],
   "source": [
    "%%time\n",
    "model_2.score(train_inputs, train_targets)"
   ]
  },
  {
   "cell_type": "code",
   "execution_count": null,
   "id": "7d8d578e-71c6-44f7-8d5e-3e9bbf468616",
   "metadata": {},
   "outputs": [],
   "source": [
    "from sklearn.metrics import confusion_matrix\n",
    "def predict_and_plot_2(inputs, targets,name=''):\n",
    "    preds=model_2.predict(inputs)\n",
    "    accuracy = accuracy_score(targets, preds)\n",
    "    print(\"Accuracy: {:.2f}%\".format(accuracy * 100))\n",
    "    cf = confusion_matrix(targets, preds, normalize='true')\n",
    "    plt.figure()\n",
    "    sns.heatmap(cf, annot=True)\n",
    "    plt.xlabel('Prediction')\n",
    "    plt.ylabel('Target')\n",
    "    plt.title('{} Confusion Matrix'.format(name));    \n",
    "    return preds"
   ]
  },
  {
   "cell_type": "code",
   "execution_count": null,
   "id": "60851088-231c-4243-9e86-025096c0d191",
   "metadata": {},
   "outputs": [],
   "source": [
    "%%time\n",
    "val_preds_2 = predict_and_plot_2(val_inputs, val_targets, 'Validation')"
   ]
  },
  {
   "cell_type": "markdown",
   "id": "e939aaba-59ed-4899-a8f8-c33a12eb53bb",
   "metadata": {},
   "source": [
    "Random forest without hyperparameter turning \n",
    "(Training Accuracy  99.98%\n",
    "Validation Accuracy  86.50%)"
   ]
  },
  {
   "cell_type": "markdown",
   "id": "95f677bd-9adc-4736-b20a-10c50b499295",
   "metadata": {},
   "source": [
    "Random forest without hyperparameter turning seem to be overfit from training accuracy 99.98%"
   ]
  },
  {
   "cell_type": "code",
   "execution_count": null,
   "id": "2a637137-f68a-4716-9539-f875bc4f7f30",
   "metadata": {},
   "outputs": [],
   "source": []
  },
  {
   "cell_type": "markdown",
   "id": "e8948039-d4de-4173-8c27-b83d82c47a05",
   "metadata": {},
   "source": [
    "Hyperparameter Tuning of Random Forest"
   ]
  },
  {
   "cell_type": "code",
   "execution_count": null,
   "id": "a01c3325-621d-431e-bdef-89000f11ec0d",
   "metadata": {},
   "outputs": [],
   "source": [
    "model_2.feature_importances_"
   ]
  },
  {
   "cell_type": "code",
   "execution_count": null,
   "id": "81d25034-3373-4b8d-9a37-59d40e155827",
   "metadata": {},
   "outputs": [],
   "source": [
    "importance_df=pd.DataFrame({\n",
    "    'feature':train_inputs.columns,\n",
    "    'importance':model_2.feature_importances_\n",
    "}).sort_values('importance',ascending=False)"
   ]
  },
  {
   "cell_type": "code",
   "execution_count": null,
   "id": "f6f270ac-6d3d-4285-aa21-4d4c36e21e22",
   "metadata": {},
   "outputs": [],
   "source": [
    "importance_df"
   ]
  },
  {
   "cell_type": "markdown",
   "id": "5082ab6b-8875-4d62-8e10-e0d892acf07d",
   "metadata": {},
   "source": [
    "n_estimators hyperparameter"
   ]
  },
  {
   "cell_type": "markdown",
   "id": "7afd3b4c-da67-412b-a2fb-8d8726693562",
   "metadata": {},
   "source": [
    "#10"
   ]
  },
  {
   "cell_type": "code",
   "execution_count": null,
   "id": "adfc4f2a-4a76-49cd-baf3-9dd3f34f4a0f",
   "metadata": {},
   "outputs": [],
   "source": [
    "model_2_1_1 = RandomForestClassifier(random_state=42,n_jobs=-1,n_estimators = 10)"
   ]
  },
  {
   "cell_type": "code",
   "execution_count": null,
   "id": "b328878e-9140-4007-a6c4-d8aba7af5a30",
   "metadata": {},
   "outputs": [],
   "source": [
    "model_2_1_1.fit(train_inputs,train_targets)"
   ]
  },
  {
   "cell_type": "code",
   "execution_count": null,
   "id": "da6b7ae6-40da-46b1-927f-8ff2588014cb",
   "metadata": {},
   "outputs": [],
   "source": [
    "%%time\n",
    "model_2_1_1.score(train_inputs, train_targets)"
   ]
  },
  {
   "cell_type": "code",
   "execution_count": null,
   "id": "f50b4eea-c3b2-4fbd-8d46-6437d9f991bf",
   "metadata": {},
   "outputs": [],
   "source": [
    "%%time\n",
    "model_2_1_1.score(val_inputs, val_targets)"
   ]
  },
  {
   "cell_type": "markdown",
   "id": "02253979-1a03-4cdb-a6de-6b73132a9b39",
   "metadata": {},
   "source": [
    "#20"
   ]
  },
  {
   "cell_type": "code",
   "execution_count": null,
   "id": "178d5f1e-a353-4e95-a5aa-8f10c374d897",
   "metadata": {},
   "outputs": [],
   "source": [
    "%%time\n",
    "model_2_1_2 = RandomForestClassifier(random_state=42,n_jobs=-1,n_estimators = 20)\n",
    "model_2_1_2.fit(train_inputs,train_targets)\n",
    "print(\"Training Accuracy = \",model_2_1_2.score(train_inputs, train_targets))\n",
    "print(\"Validation Accuracy = \",model_2_1_2.score(val_inputs, val_targets)) "
   ]
  },
  {
   "cell_type": "markdown",
   "id": "ad1952ba-b5fd-42c0-abb0-168c8ab34bba",
   "metadata": {},
   "source": [
    "#100"
   ]
  },
  {
   "cell_type": "code",
   "execution_count": null,
   "id": "57648650-9a58-4336-aa9d-c1294c568061",
   "metadata": {},
   "outputs": [],
   "source": [
    "%%time\n",
    "model_2_1_3 = RandomForestClassifier(random_state=42,n_jobs=-1,n_estimators = 100)\n",
    "model_2_1_3.fit(train_inputs,train_targets)\n",
    "print(\"Training Accuracy = \",model_2_1_3.score(train_inputs, train_targets))\n",
    "print(\"Validation Accuracy = \",model_2_1_3.score(val_inputs, val_targets))"
   ]
  },
  {
   "cell_type": "code",
   "execution_count": null,
   "id": "e622bf56-93b6-4a6a-85f4-e828da15195b",
   "metadata": {},
   "outputs": [],
   "source": [
    "#200"
   ]
  },
  {
   "cell_type": "code",
   "execution_count": null,
   "id": "29b43b34-685c-4275-b0e7-d65ed78f0d48",
   "metadata": {},
   "outputs": [],
   "source": [
    "%%time\n",
    "model_2_1_4 = RandomForestClassifier(random_state=42,n_jobs=-1,n_estimators = 200)\n",
    "model_2_1_4.fit(train_inputs,train_targets)\n",
    "print(\"Training Accuracy = \",model_2_1_4.score(train_inputs, train_targets))\n",
    "print(\"Validation Accuracy = \",model_2_1_4.score(val_inputs, val_targets))"
   ]
  },
  {
   "cell_type": "code",
   "execution_count": null,
   "id": "226518ac-43ec-428a-a165-3e3e7331283e",
   "metadata": {},
   "outputs": [],
   "source": [
    "#150"
   ]
  },
  {
   "cell_type": "markdown",
   "id": "38ca2668-f315-4d9e-8f3a-0664dd8f716c",
   "metadata": {},
   "source": [
    "%%time\n",
    "model_2_1_5 = RandomForestClassifier(random_state=42,n_jobs=-1,n_estimators = 150)\n",
    "model_2_1_5.fit(train_inputs,train_targets)\n",
    "print(\"Training Accuracy = \",model_2_1_5.score(train_inputs, train_targets))\n",
    "print(\"Validation Accuracy = \",model_2_1_5.score(val_inputs, val_targets))"
   ]
  },
  {
   "cell_type": "markdown",
   "id": "35b62267-338c-41a7-90aa-047f57035e6b",
   "metadata": {},
   "source": [
    "n = 100 got the highest validation accuracy"
   ]
  },
  {
   "cell_type": "code",
   "execution_count": null,
   "id": "6ec306b6-af66-4b4a-a34d-e4ace8d379bf",
   "metadata": {},
   "outputs": [],
   "source": []
  },
  {
   "cell_type": "markdown",
   "id": "7d99f60c-09b8-42bc-911c-f217f8b0a9ef",
   "metadata": {},
   "source": [
    "max__features hyperparameter test"
   ]
  },
  {
   "cell_type": "code",
   "execution_count": null,
   "id": "ffab5de4-dc03-4f9e-800c-df58c8b5f4bd",
   "metadata": {},
   "outputs": [],
   "source": [
    "%%time\n",
    "model_2_2_1 = RandomForestClassifier(random_state=42,n_jobs=-1,max_features = 2)\n",
    "model_2_2_1.fit(train_inputs,train_targets)\n",
    "print(\"Training Accuracy = \",model_2_2_1.score(train_inputs, train_targets))\n",
    "print(\"Validation Accuracy = \",model_2_2_1.score(val_inputs, val_targets)) "
   ]
  },
  {
   "cell_type": "code",
   "execution_count": null,
   "id": "02aaa64e-21e5-4167-b961-163fd24e8ea3",
   "metadata": {},
   "outputs": [],
   "source": [
    "%%time\n",
    "model_2_2_2 = RandomForestClassifier(random_state=42,n_jobs=-1,max_features = 5)\n",
    "model_2_2_2.fit(train_inputs,train_targets)\n",
    "print(\"Training Accuracy = \",model_2_2_2.score(train_inputs, train_targets))\n",
    "print(\"Validation Accuracy = \",model_2_2_2.score(val_inputs, val_targets))  "
   ]
  },
  {
   "cell_type": "code",
   "execution_count": null,
   "id": "27de924d-8c27-4b2e-933c-7bb5a0d20111",
   "metadata": {},
   "outputs": [],
   "source": [
    "%%time\n",
    "model_2_2_3 = RandomForestClassifier(random_state=42,n_jobs=-1,max_features = 10)\n",
    "model_2_2_3.fit(train_inputs,train_targets)\n",
    "print(\"Training Accuracy = \",model_2_2_3.score(train_inputs, train_targets))\n",
    "print(\"Validation Accuracy = \",model_2_2_3.score(val_inputs, val_targets))  "
   ]
  },
  {
   "cell_type": "code",
   "execution_count": null,
   "id": "adc0c7e1-0248-4bde-8ec3-726540d70ed3",
   "metadata": {},
   "outputs": [],
   "source": [
    "%%time\n",
    "model_2_2_4 = RandomForestClassifier(random_state=42,n_jobs=-1,max_features = 6)\n",
    "model_2_2_4.fit(train_inputs,train_targets)\n",
    "print(\"Training Accuracy = \",model_2_2_4.score(train_inputs, train_targets))\n",
    "print(\"Validation Accuracy = \",model_2_2_4.score(val_inputs, val_targets)) "
   ]
  },
  {
   "cell_type": "code",
   "execution_count": null,
   "id": "9dd77039-d979-4d58-ab69-ebd8d803ed47",
   "metadata": {},
   "outputs": [],
   "source": [
    "%%time\n",
    "model_2_2_5 = RandomForestClassifier(random_state=42,n_jobs=-1,max_features = 7)\n",
    "model_2_2_5.fit(train_inputs,train_targets)\n",
    "print(\"Training Accuracy = \",model_2_2_5.score(train_inputs, train_targets))\n",
    "print(\"Validation Accuracy = \",model_2_2_5.score(val_inputs, val_targets))"
   ]
  },
  {
   "cell_type": "markdown",
   "id": "9ee8a73c-7e16-4256-a0c7-cbcfcfcc030d",
   "metadata": {},
   "source": [
    "max_features = 6 is the best one"
   ]
  },
  {
   "cell_type": "code",
   "execution_count": null,
   "id": "5c2aa0f6-4398-4c92-be28-ffc3093a969e",
   "metadata": {},
   "outputs": [],
   "source": []
  },
  {
   "cell_type": "markdown",
   "id": "14571a0a-01ed-4c98-ab32-21677c70b1d1",
   "metadata": {},
   "source": [
    "#Using n=100  feature=6"
   ]
  },
  {
   "cell_type": "code",
   "execution_count": null,
   "id": "cace96c7-5bbf-4761-bc05-a151e852355d",
   "metadata": {},
   "outputs": [],
   "source": [
    "model_2_all = RandomForestClassifier(n_jobs=-1, random_state=42, n_estimators=100, max_features=6)"
   ]
  },
  {
   "cell_type": "code",
   "execution_count": null,
   "id": "ff0a9b0c-4367-433d-8dbc-49b3a043ee46",
   "metadata": {},
   "outputs": [],
   "source": [
    "model_2_all.fit(train_inputs,train_targets)\n",
    "print(\"Training Accuracy = \",model_2_all.score(train_inputs, train_targets))\n",
    "print(\"Validation Accuracy = \",model_2_all.score(val_inputs, val_targets)) "
   ]
  },
  {
   "cell_type": "markdown",
   "id": "db99fc50-bbde-4619-bec8-4a25c75d1f30",
   "metadata": {},
   "source": [
    "compare to non hyperparameter tuning its not much different"
   ]
  },
  {
   "cell_type": "code",
   "execution_count": null,
   "id": "324e1832-10d8-42a4-a728-092030cef1f0",
   "metadata": {},
   "outputs": [],
   "source": []
  },
  {
   "cell_type": "code",
   "execution_count": null,
   "id": "160b1d7a-c480-4b6a-8d1d-864606ddf601",
   "metadata": {},
   "outputs": [],
   "source": [
    "##Decision Tree Classifier"
   ]
  },
  {
   "cell_type": "code",
   "execution_count": null,
   "id": "3219f07e-41ec-489a-9afb-0350a56e5c11",
   "metadata": {},
   "outputs": [],
   "source": [
    "from sklearn.tree import DecisionTreeClassifier\n",
    "model_3=DecisionTreeClassifier(random_state=42)\n",
    "model_3.fit(train_inputs, train_targets)"
   ]
  },
  {
   "cell_type": "code",
   "execution_count": null,
   "id": "7e9be325-32f0-4f4d-bf59-76054339d273",
   "metadata": {},
   "outputs": [],
   "source": [
    "%%time\n",
    "train_preds_3=model_3.predict(train_inputs)\n",
    "train_probs_3=model_3.predict_proba(train_inputs)\n",
    "accuracy_score(train_targets, train_preds_3)"
   ]
  },
  {
   "cell_type": "code",
   "execution_count": null,
   "id": "caced14e-6512-4ef2-9465-7008f2d75ba6",
   "metadata": {},
   "outputs": [],
   "source": [
    "def predict_and_plot_3(inputs, targets, name=''):\n",
    "    preds = model_3.predict(inputs)\n",
    "    accuracy = accuracy_score(targets, preds)\n",
    "    print(\"Accuracy: {:.2f}%\".format(accuracy * 100))\n",
    "    cf = confusion_matrix(targets, preds, normalize='true')\n",
    "    plt.figure()\n",
    "    sns.heatmap(cf, annot=True)\n",
    "    plt.xlabel('Prediction')\n",
    "    plt.ylabel('Target')\n",
    "    plt.title('{} Confusion Matrix'.format(name));    \n",
    "    return preds"
   ]
  },
  {
   "cell_type": "code",
   "execution_count": null,
   "id": "1cc2ef0d-b2c0-40b4-9f90-07d9250b6c04",
   "metadata": {},
   "outputs": [],
   "source": [
    "%%time\n",
    "val_preds = predict_and_plot_2(val_inputs, val_targets, 'Validation')"
   ]
  },
  {
   "cell_type": "markdown",
   "id": "14ea4455-50bb-4142-8f6b-79abac858acd",
   "metadata": {},
   "source": [
    "##_Decision tree with out parameter tuning\n",
    "Training Accuracy - 99.98%\n",
    "Validation Accuracy - 86.50%"
   ]
  },
  {
   "cell_type": "code",
   "execution_count": null,
   "id": "49623132-67be-4625-b6b5-fe69bc00b366",
   "metadata": {},
   "outputs": [],
   "source": [
    "from sklearn.tree import plot_tree, export_text"
   ]
  },
  {
   "cell_type": "code",
   "execution_count": null,
   "id": "a027c0f0-d53a-4a65-8277-00971ff2a34f",
   "metadata": {},
   "outputs": [],
   "source": [
    "plt.figure(figsize=(30,10))\n",
    "plot_tree(model_3, feature_names=train_inputs.columns, max_depth=3, filled=True);"
   ]
  },
  {
   "cell_type": "code",
   "execution_count": null,
   "id": "1fbeb3e5-c780-4273-8bd4-c42885d2796c",
   "metadata": {},
   "outputs": [],
   "source": [
    "model_3_text=export_text(model_3, feature_names=list(train_inputs.columns))\n",
    "print(model_3_text[:3000])"
   ]
  },
  {
   "cell_type": "code",
   "execution_count": null,
   "id": "5585091c-32f1-4154-9066-8a04d058acea",
   "metadata": {},
   "outputs": [],
   "source": [
    "model_3.feature_importances_"
   ]
  },
  {
   "cell_type": "code",
   "execution_count": null,
   "id": "cdba3172-259f-45e8-9205-5cee3ca12e26",
   "metadata": {},
   "outputs": [],
   "source": [
    "importance_df = pd.DataFrame({\n",
    "    'feature': train_inputs.columns,\n",
    "    'importance': model_3.feature_importances_\n",
    "}).sort_values('importance', ascending=False)"
   ]
  },
  {
   "cell_type": "code",
   "execution_count": null,
   "id": "5e5289b1-2559-45bc-824d-0f3f3577e4c6",
   "metadata": {},
   "outputs": [],
   "source": [
    "importance_df"
   ]
  },
  {
   "cell_type": "code",
   "execution_count": null,
   "id": "5e521ac4-31c5-40fb-bb43-bb8bd542251d",
   "metadata": {},
   "outputs": [],
   "source": [
    "#Hyperparameter Tuning of random forest"
   ]
  },
  {
   "cell_type": "markdown",
   "id": "2cf50494-1558-4770-8df0-2a1a73bf28fe",
   "metadata": {},
   "source": [
    "***max_leaf_nodes***"
   ]
  },
  {
   "cell_type": "code",
   "execution_count": null,
   "id": "1d0b1b5d-540b-403a-ab3b-81bb0b2fc173",
   "metadata": {},
   "outputs": [],
   "source": [
    "from sklearn.model_selection import GridSearchCV"
   ]
  },
  {
   "cell_type": "code",
   "execution_count": null,
   "id": "7028fffd-1bc2-4d87-a271-429646a6163b",
   "metadata": {},
   "outputs": [],
   "source": [
    "params_grid = {'max_leaf_nodes':[5,10,15,20,25]}"
   ]
  },
  {
   "cell_type": "code",
   "execution_count": null,
   "id": "23717a43-a0d9-4bdc-9886-634cc83f63d3",
   "metadata": {},
   "outputs": [],
   "source": [
    "grid = GridSearchCV(estimator=DecisionTreeClassifier(random_state=42),cv=5,param_grid=params_grid)"
   ]
  },
  {
   "cell_type": "code",
   "execution_count": null,
   "id": "541d8c03-ab88-4826-93d3-9915ef8d10b7",
   "metadata": {},
   "outputs": [],
   "source": [
    "grid.fit(train_inputs,train_targets)"
   ]
  },
  {
   "cell_type": "code",
   "execution_count": null,
   "id": "c22449fc-ee0c-438d-ae6e-af163864c9b5",
   "metadata": {},
   "outputs": [],
   "source": [
    "grid.best_params_"
   ]
  },
  {
   "cell_type": "code",
   "execution_count": null,
   "id": "9d2b3d91-a34e-4e0d-8bb1-61e89ea28b15",
   "metadata": {},
   "outputs": [],
   "source": [
    "model_3_1=grid.best_estimator_\n"
   ]
  },
  {
   "cell_type": "code",
   "execution_count": null,
   "id": "1c5b3ea3-c582-4013-9b29-e01b7d8b16fe",
   "metadata": {},
   "outputs": [],
   "source": [
    "model_3_1.score(train_inputs, train_targets)"
   ]
  },
  {
   "cell_type": "code",
   "execution_count": null,
   "id": "862f3fbd-5414-427c-b13e-7d1576502432",
   "metadata": {},
   "outputs": [],
   "source": [
    "model_3_1.score(val_inputs, val_targets)"
   ]
  },
  {
   "cell_type": "code",
   "execution_count": null,
   "id": "4fc3eff0-c242-4c41-a705-9ccf1c51853d",
   "metadata": {},
   "outputs": [],
   "source": []
  },
  {
   "cell_type": "markdown",
   "id": "234ac069-3380-45e3-b7b9-44fdda64cc2b",
   "metadata": {},
   "source": [
    "***max_depth***"
   ]
  },
  {
   "cell_type": "code",
   "execution_count": null,
   "id": "ff0e418c-ca4d-40e3-b8fb-c3dbdac9acc3",
   "metadata": {},
   "outputs": [],
   "source": [
    "params_grid = {'max_depth':[10,20,30,40,50]}"
   ]
  },
  {
   "cell_type": "code",
   "execution_count": null,
   "id": "d6a2817e-4a09-469f-9042-62d3287476fe",
   "metadata": {},
   "outputs": [],
   "source": [
    "grid = GridSearchCV(estimator=DecisionTreeClassifier(random_state=42),cv=5,param_grid=params_grid)"
   ]
  },
  {
   "cell_type": "code",
   "execution_count": null,
   "id": "7efcd783-4a38-4bf6-a9cc-c4013ab26bf4",
   "metadata": {},
   "outputs": [],
   "source": [
    "grid.fit(train_inputs,train_targets)"
   ]
  },
  {
   "cell_type": "code",
   "execution_count": null,
   "id": "455acef1-3dc7-4aaf-99b4-ebe9cec0e028",
   "metadata": {},
   "outputs": [],
   "source": [
    "grid.best_params_"
   ]
  },
  {
   "cell_type": "code",
   "execution_count": null,
   "id": "ab1a612c-95cf-47a6-b196-3fe0ff72b01d",
   "metadata": {},
   "outputs": [],
   "source": [
    "model_3_2=grid.best_estimator_"
   ]
  },
  {
   "cell_type": "code",
   "execution_count": null,
   "id": "b2f62824-078c-49aa-acb7-e1d0c88965ff",
   "metadata": {},
   "outputs": [],
   "source": [
    "model_3_2.score(train_inputs, train_targets)"
   ]
  },
  {
   "cell_type": "code",
   "execution_count": null,
   "id": "adfc7d97-7c73-4ee2-8a5d-7532f077121b",
   "metadata": {},
   "outputs": [],
   "source": [
    "model_3_2.score(val_inputs, val_targets)"
   ]
  },
  {
   "cell_type": "markdown",
   "id": "816ad6aa-5ed2-44e5-983b-92a5d620972d",
   "metadata": {},
   "source": [
    "***criterion and splitter hyperparameter***"
   ]
  },
  {
   "cell_type": "code",
   "execution_count": null,
   "id": "a0bb5a02-65a9-468d-9b88-8f7825589ef5",
   "metadata": {},
   "outputs": [],
   "source": [
    "params_grid = {'criterion':['gini','entropy'],\n",
    "               'splitter':['best','random'] }"
   ]
  },
  {
   "cell_type": "code",
   "execution_count": null,
   "id": "444b55cf-cef0-4634-9ebe-bc20df1fcde0",
   "metadata": {},
   "outputs": [],
   "source": [
    "grid = GridSearchCV(estimator=DecisionTreeClassifier(random_state=42),cv=5,param_grid=params_grid)"
   ]
  },
  {
   "cell_type": "code",
   "execution_count": null,
   "id": "9f91f074-56ba-479a-94b1-164f047e8483",
   "metadata": {},
   "outputs": [],
   "source": [
    "grid.fit(train_inputs,train_targets)"
   ]
  },
  {
   "cell_type": "code",
   "execution_count": null,
   "id": "9eb24404-b725-4d91-a17e-b356f7d9c17a",
   "metadata": {},
   "outputs": [],
   "source": [
    "grid.best_params_"
   ]
  },
  {
   "cell_type": "code",
   "execution_count": null,
   "id": "747a0188-32ad-47da-a2d1-76ec81706c34",
   "metadata": {},
   "outputs": [],
   "source": [
    "model_3_3=grid.best_estimator_"
   ]
  },
  {
   "cell_type": "code",
   "execution_count": null,
   "id": "d99cb9a7-dd95-4776-84b6-6203c7552f4d",
   "metadata": {},
   "outputs": [],
   "source": [
    "model_3_3.score(train_inputs, train_targets)"
   ]
  },
  {
   "cell_type": "code",
   "execution_count": null,
   "id": "4cf2f492-ad37-49d4-a92d-62fc96ee5568",
   "metadata": {},
   "outputs": [],
   "source": [
    "model_3_3.score(val_inputs, val_targets)"
   ]
  },
  {
   "cell_type": "markdown",
   "id": "09e17816-63ab-45ec-8b00-03049278b020",
   "metadata": {},
   "source": [
    "***#combine all the best parameter for decisiontree***"
   ]
  },
  {
   "cell_type": "code",
   "execution_count": null,
   "id": "cdc74ea8-7b33-4d12-b4ba-5724f657743e",
   "metadata": {},
   "outputs": [],
   "source": [
    "model_3_all = DecisionTreeClassifier(random_state=42,\n",
    "                                       criterion='entropy',\n",
    "                                       splitter='best',\n",
    "                                       max_leaf_nodes=5,\n",
    "                                       max_depth=10)"
   ]
  },
  {
   "cell_type": "code",
   "execution_count": null,
   "id": "48246e86-2212-4329-81e1-4a018fb7f7a0",
   "metadata": {},
   "outputs": [],
   "source": [
    "model_3_all.fit(train_inputs, train_targets)"
   ]
  },
  {
   "cell_type": "code",
   "execution_count": null,
   "id": "b2ff95e7-4754-4d00-9f68-d37f06279ec0",
   "metadata": {},
   "outputs": [],
   "source": []
  },
  {
   "cell_type": "code",
   "execution_count": null,
   "id": "f4dcc033-34df-4c30-916c-542b18209b47",
   "metadata": {},
   "outputs": [],
   "source": [
    "model_3_all.score(train_inputs, train_targets)"
   ]
  },
  {
   "cell_type": "code",
   "execution_count": null,
   "id": "ea54c616-650c-4c86-9fce-b59e9765e2b8",
   "metadata": {},
   "outputs": [],
   "source": [
    "model_3_all.score(val_inputs, val_targets)"
   ]
  },
  {
   "cell_type": "markdown",
   "id": "66cd47bc-ee3e-4ebe-847c-27f5785a24b9",
   "metadata": {},
   "source": [
    "##Decision Tree with hyperparameter tuning:\n",
    "Training Accuracy - 87.804%\n",
    "Validation Accuracy - 87.506%"
   ]
  },
  {
   "cell_type": "markdown",
   "id": "605431b4-0223-42a0-b9a3-c403da3f111f",
   "metadata": {},
   "source": [
    "The training accuracy of decision tree with hyperparameter tuning was decreased but validation got improved to be the highest accuracy from all of the model"
   ]
  },
  {
   "cell_type": "code",
   "execution_count": null,
   "id": "57ccf9bc-7db7-4f87-b8d1-493e29cc7463",
   "metadata": {},
   "outputs": [],
   "source": []
  }
 ],
 "metadata": {
  "kernelspec": {
   "display_name": "Python 3 (ipykernel)",
   "language": "python",
   "name": "python3"
  },
  "language_info": {
   "codemirror_mode": {
    "name": "ipython",
    "version": 3
   },
   "file_extension": ".py",
   "mimetype": "text/x-python",
   "name": "python",
   "nbconvert_exporter": "python",
   "pygments_lexer": "ipython3",
   "version": "3.9.12"
  }
 },
 "nbformat": 4,
 "nbformat_minor": 5
}
